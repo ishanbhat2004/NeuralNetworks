{
 "cells": [
  {
   "cell_type": "code",
   "execution_count": 1,
   "id": "e40f8041-2c49-43f5-b08e-b4161e5e75dd",
   "metadata": {},
   "outputs": [],
   "source": [
    "## Coding a Neuron with inputs and weights\n",
    "def neuron(inputs, weights, bias):\n",
    "    sum = 0\n",
    "    for pair in zip(inputs, weights):\n",
    "        a, b = pair\n",
    "        sum += a * b\n",
    "\n",
    "    sum += bias\n",
    "\n",
    "    return sum "
   ]
  },
  {
   "cell_type": "code",
   "execution_count": 5,
   "id": "9633516c-af39-411d-bfc5-ae80041e46d6",
   "metadata": {},
   "outputs": [
    {
     "name": "stdout",
     "output_type": "stream",
     "text": [
      "3.0\n"
     ]
    }
   ],
   "source": [
    "inputs = [1, 2, 3]\n",
    "weights = [0.5, 0.5, 0.5] ## correspond to the importance of each input\n",
    "\n",
    "print(neuron(inputs, weights, 0))"
   ]
  },
  {
   "cell_type": "code",
   "execution_count": 25,
   "id": "f9c69b16-0d25-4df0-8032-d7d24520a807",
   "metadata": {},
   "outputs": [],
   "source": [
    "## implementing a layer of neurons \n",
    "def layer(inputs, weights, bias):\n",
    "    output = []\n",
    "    for i in range(len(weights)):\n",
    "        sum = 0\n",
    "        for j in range(len(weights[i])):\n",
    "            sum += weights[i][j] * inputs[j]\n",
    "        sum += bias[i]\n",
    "        output.append(sum)\n",
    "    return output\n",
    "        "
   ]
  },
  {
   "cell_type": "code",
   "execution_count": 29,
   "id": "37411ba7-33b8-4d01-a89f-1dd75f03f73a",
   "metadata": {},
   "outputs": [
    {
     "name": "stdout",
     "output_type": "stream",
     "text": [
      "[3.0, 3.0, 4.0]\n"
     ]
    }
   ],
   "source": [
    "weights = [[0.5, 0.5, 0.5], [0.5, 0.5, 0.5], [0.5, 0.5, 0.5]]\n",
    "\n",
    "print(layer(inputs,weights, [0, 0, 1])) "
   ]
  }
 ],
 "metadata": {
  "kernelspec": {
   "display_name": "Python 3 (ipykernel)",
   "language": "python",
   "name": "python3"
  },
  "language_info": {
   "codemirror_mode": {
    "name": "ipython",
    "version": 3
   },
   "file_extension": ".py",
   "mimetype": "text/x-python",
   "name": "python",
   "nbconvert_exporter": "python",
   "pygments_lexer": "ipython3",
   "version": "3.12.7"
  }
 },
 "nbformat": 4,
 "nbformat_minor": 5
}
